{
 "cells": [
  {
   "cell_type": "code",
   "execution_count": 2,
   "metadata": {},
   "outputs": [],
   "source": [
    "import matplotlib\n",
    "from datascience import *\n",
    "%matplotlib inline\n",
    "import matplotlib.pyplot as plots\n",
    "import numpy as np\n",
    "plots.style.use('fivethirtyeight')"
   ]
  },
  {
   "cell_type": "code",
   "execution_count": 5,
   "metadata": {},
   "outputs": [],
   "source": [
    "flights = Table.read_table(\"united_summer2015.csv\")"
   ]
  },
  {
   "cell_type": "code",
   "execution_count": 10,
   "metadata": {},
   "outputs": [
    {
     "data": {
      "image/png": "[encoded data removed]",
      "text/plain": [
       "<Figure size 432x288 with 1 Axes>"
      ]
     },
     "metadata": {},
     "output_type": "display_data"
    }
   ],
   "source": [
    "flights.hist('Delay', bins = np.arange(0,200,10))"
   ]
  },
  {
   "cell_type": "markdown",
   "metadata": {},
   "source": [
    "### The following notebook will walk you through the steps required to construct a 50% confidence interval for the population mean flight delay from a sample of 100 flights.  On an exam I might simply say \"use a sampe size of 100 and calculate the 50% confidence interval of the mean delay.  Make a histogram and show your confidence interval on the graph\""
   ]
  },
  {
   "cell_type": "markdown",
   "metadata": {},
   "source": [
    "Look at [this notebook](http://datahub.cs.umass.edu/hub/spawn-pending/tbernard?next=%2Fuser%2Ftbernard%2Fgit-sync%3Frepo%3Dhttps%253A%252F%252Fgithub.com%252Fumass-data-science%252Fmaterials-fa20%26subPath%3Dlec%252Flec13.ipynb) from lecture for clues to how to code this Notebook"
   ]
  },
  {
   "cell_type": "markdown",
   "metadata": {},
   "source": [
    "The following code takes a sample of 100 and calls it sample_100.  Change the random seed from 1111 to a 4 digit random number of your choosing.  This will allow you to recreate the same random sample if you have to rerun your code. "
   ]
  },
  {
   "cell_type": "code",
   "execution_count": 31,
   "metadata": {},
   "outputs": [
    {
     "data": {
      "text/html": [
       "<table border=\"1\" class=\"dataframe\">\n",
       "    <thead>\n",
       "        <tr>\n",
       "            <th>Date</th> <th>Flight Number</th> <th>Destination</th> <th>Delay</th>\n",
       "        </tr>\n",
       "    </thead>\n",
       "    <tbody>\n",
       "        <tr>\n",
       "            <td>8/4/15 </td> <td>824          </td> <td>JFK        </td> <td>10   </td>\n",
       "        </tr>\n",
       "        <tr>\n",
       "            <td>8/14/15</td> <td>1038         </td> <td>LAS        </td> <td>4    </td>\n",
       "        </tr>\n",
       "        <tr>\n",
       "            <td>6/10/15</td> <td>477          </td> <td>ORD        </td> <td>1    </td>\n",
       "        </tr>\n",
       "        <tr>\n",
       "            <td>8/19/15</td> <td>516          </td> <td>IAD        </td> <td>14   </td>\n",
       "        </tr>\n",
       "        <tr>\n",
       "            <td>7/1/15 </td> <td>1681         </td> <td>PDX        </td> <td>-4   </td>\n",
       "        </tr>\n",
       "        <tr>\n",
       "            <td>6/3/15 </td> <td>322          </td> <td>SEA        </td> <td>-6   </td>\n",
       "        </tr>\n",
       "        <tr>\n",
       "            <td>6/30/15</td> <td>1928         </td> <td>ORD        </td> <td>17   </td>\n",
       "        </tr>\n",
       "        <tr>\n",
       "            <td>6/30/15</td> <td>568          </td> <td>EWR        </td> <td>-1   </td>\n",
       "        </tr>\n",
       "        <tr>\n",
       "            <td>6/17/15</td> <td>309          </td> <td>IAD        </td> <td>0    </td>\n",
       "        </tr>\n",
       "        <tr>\n",
       "            <td>6/30/15</td> <td>1754         </td> <td>EWR        </td> <td>28   </td>\n",
       "        </tr>\n",
       "    </tbody>\n",
       "</table>\n",
       "<p>... (90 rows omitted)</p>"
      ],
      "text/plain": [
       "Date    | Flight Number | Destination | Delay\n",
       "8/4/15  | 824           | JFK         | 10\n",
       "8/14/15 | 1038          | LAS         | 4\n",
       "6/10/15 | 477           | ORD         | 1\n",
       "8/19/15 | 516           | IAD         | 14\n",
       "7/1/15  | 1681          | PDX         | -4\n",
       "6/3/15  | 322           | SEA         | -6\n",
       "6/30/15 | 1928          | ORD         | 17\n",
       "6/30/15 | 568           | EWR         | -1\n",
       "6/17/15 | 309           | IAD         | 0\n",
       "6/30/15 | 1754          | EWR         | 28\n",
       "... (90 rows omitted)"
      ]
     },
     "execution_count": 31,
     "metadata": {},
     "output_type": "execute_result"
    }
   ],
   "source": [
    "np.random.seed(1111)\n",
    "sample_100 = flights.sample(100, with_replacement = False)\n",
    "sample_100"
   ]
  },
  {
   "cell_type": "markdown",
   "metadata": {},
   "source": [
    "Show a histogram of the sample"
   ]
  },
  {
   "cell_type": "code",
   "execution_count": null,
   "metadata": {},
   "outputs": [],
   "source": []
  },
  {
   "cell_type": "markdown",
   "metadata": {},
   "source": [
    "What is the delay of your sample at the 20th percentile?  What does this mean?"
   ]
  },
  {
   "cell_type": "code",
   "execution_count": null,
   "metadata": {},
   "outputs": [],
   "source": []
  },
  {
   "cell_type": "markdown",
   "metadata": {},
   "source": [
    "What is the delay of your sample at the 80th percentile?  What does this mean?"
   ]
  },
  {
   "cell_type": "code",
   "execution_count": null,
   "metadata": {},
   "outputs": [],
   "source": []
  },
  {
   "cell_type": "markdown",
   "metadata": {},
   "source": [
    "What is the mean of your sample?"
   ]
  },
  {
   "cell_type": "code",
   "execution_count": null,
   "metadata": {},
   "outputs": [],
   "source": []
  },
  {
   "cell_type": "markdown",
   "metadata": {},
   "source": [
    "## Calculate a 50% confidence interval of the mean"
   ]
  },
  {
   "cell_type": "markdown",
   "metadata": {},
   "source": [
    "Step 1 - create an array of 5000 resampled means of sample size 100 from your sample.  Do not take a new sample from the population (flights)."
   ]
  },
  {
   "cell_type": "code",
   "execution_count": null,
   "metadata": {},
   "outputs": [],
   "source": []
  },
  {
   "cell_type": "markdown",
   "metadata": {},
   "source": [
    "Step 2 - calculate the the correct percentile boundaries for a 50% confidence interval.  What percentile should be the lower bound?  What percentile should be the upper bound?"
   ]
  },
  {
   "cell_type": "code",
   "execution_count": null,
   "metadata": {},
   "outputs": [],
   "source": [
    "#this does note require code, just write down the percentiles\n",
    "lower_percentile = \n",
    "upper_percentile = "
   ]
  },
  {
   "cell_type": "markdown",
   "metadata": {},
   "source": [
    "Step 3 - extract the boundaries of the 50% confidence interval from your simulated array of means.  This is your confidence interval."
   ]
  },
  {
   "cell_type": "code",
   "execution_count": null,
   "metadata": {},
   "outputs": [],
   "source": []
  },
  {
   "cell_type": "markdown",
   "metadata": {},
   "source": [
    "Plot the bootstrap distribution and your confidence interval using a histogram."
   ]
  },
  {
   "cell_type": "code",
   "execution_count": null,
   "metadata": {},
   "outputs": [],
   "source": []
  },
  {
   "cell_type": "markdown",
   "metadata": {},
   "source": [
    "1. Take a screenshot of your plot and paste it into a slide found [here](https://docs.google.com/presentation/d/17BY9VXRMxE5ey5ubi5g9Jqk99xrdXOds50ix1bkVq0A/edit?usp=sharing)\n",
    "\n",
    "2. Record your confidence interval on the last slide"
   ]
  },
  {
   "cell_type": "markdown",
   "metadata": {},
   "source": [
    "Calculate the population mean.  Does your confidence interval contain the population mean?  Note this on the table in the slides."
   ]
  },
  {
   "cell_type": "code",
   "execution_count": null,
   "metadata": {},
   "outputs": [],
   "source": []
  },
  {
   "cell_type": "markdown",
   "metadata": {},
   "source": [
    "What percent of the classes confidence intervals would you expect to contain the population mean?"
   ]
  },
  {
   "cell_type": "code",
   "execution_count": null,
   "metadata": {},
   "outputs": [],
   "source": []
  }
 ],
 "metadata": {
  "kernelspec": {
   "display_name": "Python 3",
   "language": "python",
   "name": "python3"
  },
  "language_info": {
   "codemirror_mode": {
    "name": "ipython",
    "version": 3
   },
   "file_extension": ".py",
   "mimetype": "text/x-python",
   "name": "python",
   "nbconvert_exporter": "python",
   "pygments_lexer": "ipython3",
   "version": "3.8.3"
  }
 },
 "nbformat": 4,
 "nbformat_minor": 4
}
