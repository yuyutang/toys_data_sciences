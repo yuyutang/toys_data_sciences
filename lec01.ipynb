{
 "cells": [
  {
   "cell_type": "code",
   "execution_count": 13,
   "metadata": {},
   "outputs": [],
   "source": [
    "import numpy as np\n",
    "import matplotlib.pyplot as plt\n",
    "from IPython.display import display, HTML\n",
    "from datascience import Table"
   ]
  },
  {
   "cell_type": "code",
   "execution_count": 14,
   "metadata": {},
   "outputs": [],
   "source": [
    "# Import `fake_or_real_news.csv` \n",
    "\n",
    "raw_table = Table.read_table(\"https://s3.amazonaws.com/assets.datacamp.com/blog_assets/fake_or_real_news.csv\")\n",
    "raw_table.drop(\"Unnamed: 0\");"
   ]
  },
  {
   "cell_type": "code",
   "execution_count": 15,
   "metadata": {
    "scrolled": true
   },
   "outputs": [
    {
     "name": "stdout",
     "output_type": "stream",
     "text": [
      "Rows:  6335 Columns:  4\n"
     ]
    }
   ],
   "source": [
    "print(\"Rows: \",raw_table.num_rows, \"Columns: \", raw_table.num_columns)"
   ]
  },
  {
   "cell_type": "code",
   "execution_count": 16,
   "metadata": {},
   "outputs": [
    {
     "data": {
      "text/html": [
       "<table border=\"1\" class=\"dataframe\">\n",
       "    <thead>\n",
       "        <tr>\n",
       "            <th>Unnamed: 0</th> <th>title</th> <th>text</th> <th>label</th>\n",
       "        </tr>\n",
       "    </thead>\n",
       "    <tbody>\n",
       "        <tr>\n",
       "            <td>8476      </td> <td>You Can Smell Hillary’s Fear                                </td> <td>Daniel Greenfield, a Shillman Journalism Fellow at the F ...</td> <td>FAKE </td>\n",
       "        </tr>\n",
       "        <tr>\n",
       "            <td>10294     </td> <td>Watch The Exact Moment Paul Ryan Committed Political Sui ...</td> <td>Google Pinterest Digg Linkedin Reddit Stumbleupon Print  ...</td> <td>FAKE </td>\n",
       "        </tr>\n",
       "        <tr>\n",
       "            <td>3608      </td> <td>Kerry to go to Paris in gesture of sympathy                 </td> <td>U.S. Secretary of State John F. Kerry said Monday that h ...</td> <td>REAL </td>\n",
       "        </tr>\n",
       "        <tr>\n",
       "            <td>10142     </td> <td>Bernie supporters on Twitter erupt in anger against the  ...</td> <td>— Kaydee King (@KaydeeKing) November 9, 2016 The lesson  ...</td> <td>FAKE </td>\n",
       "        </tr>\n",
       "        <tr>\n",
       "            <td>875       </td> <td>The Battle of New York: Why This Primary Matters            </td> <td>It's primary day in New York and front-runners Hillary C ...</td> <td>REAL </td>\n",
       "        </tr>\n",
       "        <tr>\n",
       "            <td>6903      </td> <td>Tehran, USA                                                 </td> <td>  \n",
       "I’m not an immigrant, but my grandparents are. More t ...</td> <td>FAKE </td>\n",
       "        </tr>\n",
       "        <tr>\n",
       "            <td>7341      </td> <td>Girl Horrified At What She Watches Boyfriend Do After He ...</td> <td>Share This Baylee Luciani (left), Screenshot of what Bay ...</td> <td>FAKE </td>\n",
       "        </tr>\n",
       "        <tr>\n",
       "            <td>95        </td> <td>‘Britain’s Schindler’ Dies at 106                           </td> <td>A Czech stockbroker who saved more than 650 Jewish child ...</td> <td>REAL </td>\n",
       "        </tr>\n",
       "        <tr>\n",
       "            <td>4869      </td> <td>Fact check: Trump and Clinton at the 'commander-in-chief ...</td> <td>Hillary Clinton and Donald Trump made some inaccurate cl ...</td> <td>REAL </td>\n",
       "        </tr>\n",
       "        <tr>\n",
       "            <td>2909      </td> <td>Iran reportedly makes new push for uranium concessions i ...</td> <td>Iranian negotiators reportedly have made a last-ditch pu ...</td> <td>REAL </td>\n",
       "        </tr>\n",
       "    </tbody>\n",
       "</table>\n",
       "<p>... (6325 rows omitted)</p>"
      ],
      "text/plain": [
       "Unnamed: 0 | title                                                        | text                                                         | label\n",
       "8476       | You Can Smell Hillary’s Fear                                 | Daniel Greenfield, a Shillman Journalism Fellow at the F ... | FAKE\n",
       "10294      | Watch The Exact Moment Paul Ryan Committed Political Sui ... | Google Pinterest Digg Linkedin Reddit Stumbleupon Print  ... | FAKE\n",
       "3608       | Kerry to go to Paris in gesture of sympathy                  | U.S. Secretary of State John F. Kerry said Monday that h ... | REAL\n",
       "10142      | Bernie supporters on Twitter erupt in anger against the  ... | — Kaydee King (@KaydeeKing) November 9, 2016 The lesson  ... | FAKE\n",
       "875        | The Battle of New York: Why This Primary Matters             | It's primary day in New York and front-runners Hillary C ... | REAL\n",
       "6903       | Tehran, USA                                                  |   \n",
       "I’m not an immigrant, but my grandparents are. More t ... | FAKE\n",
       "7341       | Girl Horrified At What She Watches Boyfriend Do After He ... | Share This Baylee Luciani (left), Screenshot of what Bay ... | FAKE\n",
       "95         | ‘Britain’s Schindler’ Dies at 106                            | A Czech stockbroker who saved more than 650 Jewish child ... | REAL\n",
       "4869       | Fact check: Trump and Clinton at the 'commander-in-chief ... | Hillary Clinton and Donald Trump made some inaccurate cl ... | REAL\n",
       "2909       | Iran reportedly makes new push for uranium concessions i ... | Iranian negotiators reportedly have made a last-ditch pu ... | REAL\n",
       "... (6325 rows omitted)"
      ]
     },
     "metadata": {},
     "output_type": "display_data"
    }
   ],
   "source": [
    "display(raw_table)"
   ]
  },
  {
   "cell_type": "code",
   "execution_count": 17,
   "metadata": {
    "scrolled": false
   },
   "outputs": [
    {
     "name": "stdout",
     "output_type": "stream",
     "text": [
      "Daniel Greenfield, a Shillman Journalism Fellow at the Freedom Center, is a New York writer focusing on radical Islam. \n",
      "In the final stretch of the election, Hillary Rodham Clinton has gone to war with the FBI. \n",
      "The word “unprecedented” has been thrown around so often this election that it ought to be retired. But it’s still unprecedented for the nominee of a major political party to go war with the FBI. \n",
      "But that’s exactly what Hillary and her people have done. Coma patients just waking up now and watching an hour of CNN from their hospital beds would assume that FBI Director James Comey is Hillary’s opponent in this election. \n",
      "The FBI is under attack by everyone from Obama to CNN. Hillary’s people have circulated a letter attacking Comey. There are currently more media hit pieces lambasting him than targeting Trump. It wouldn’t be too surprising if the Clintons or their allies were to start running attack ads against the FBI. \n",
      "The FBI’s leadership is being warned that the entire left-wing establishment will form a lynch mob if they continue going after Hillary. And the FBI’s credibility is being attacked by the media and the Democrats to preemptively head off the results of the investigation of the Clinton Foundation and Hillary Clinton. \n",
      "The covert struggle between FBI agents and Obama’s DOJ people has gone explosively public. \n",
      "The New York Times has compared Comey to J. Edgar Hoover. Its bizarre headline, “James Comey Role Recalls Hoover’s FBI, Fairly or Not” practically admits up front that it’s spouting nonsense. The Boston Globe has published a column calling for Comey’s resignation. Not to be outdone, Time has an editorial claiming that the scandal is really an attack on all women. \n",
      "James Carville appeared on MSNBC to remind everyone that he was still alive and insane. He accused Comey of coordinating with House Republicans and the KGB. And you thought the “vast right wing conspiracy” was a stretch. \n",
      "Countless media stories charge Comey with violating procedure. Do you know what’s a procedural violation? Emailing classified information stored on your bathroom server. \n",
      "Senator Harry Reid has sent Comey a letter accusing him of violating the Hatch Act. The Hatch Act is a nice idea that has as much relevance in the age of Obama as the Tenth Amendment. But the cable news spectrum quickly filled with media hacks glancing at the Wikipedia article on the Hatch Act under the table while accusing the FBI director of one of the most awkward conspiracies against Hillary ever. \n",
      "If James Comey is really out to hurt Hillary, he picked one hell of a strange way to do it. \n",
      "Not too long ago Democrats were breathing a sigh of relief when he gave Hillary Clinton a pass in a prominent public statement. If he really were out to elect Trump by keeping the email scandal going, why did he trash the investigation? Was he on the payroll of House Republicans and the KGB back then and playing it coy or was it a sudden development where Vladimir Putin and Paul Ryan talked him into taking a look at Anthony Weiner’s computer? \n",
      "Either Comey is the most cunning FBI director that ever lived or he’s just awkwardly trying to navigate a political mess that has trapped him between a DOJ leadership whose political futures are tied to Hillary’s victory and his own bureau whose apolitical agents just want to be allowed to do their jobs. \n",
      "The only truly mysterious thing is why Hillary and her associates decided to go to war with a respected Federal agency. Most Americans like the FBI while Hillary Clinton enjoys a 60% unfavorable rating. \n",
      "And it’s an interesting question. \n",
      "Hillary’s old strategy was to lie and deny that the FBI even had a criminal investigation underway. Instead her associates insisted that it was a security review. The FBI corrected her and she shrugged it off. But the old breezy denial approach has given way to a savage assault on the FBI. \n",
      "Pretending that nothing was wrong was a bad strategy, but it was a better one that picking a fight with the FBI while lunatic Clinton associates try to claim that the FBI is really the KGB. \n",
      "There are two possible explanations. \n",
      "Hillary Clinton might be arrogant enough to lash out at the FBI now that she believes that victory is near. The same kind of hubris that led her to plan her victory fireworks display could lead her to declare a war on the FBI for irritating her during the final miles of her campaign. \n",
      "But the other explanation is that her people panicked. \n",
      "Going to war with the FBI is not the behavior of a smart and focused presidential campaign. It’s an act of desperation. When a presidential candidate decides that her only option is to try and destroy the credibility of the FBI, that’s not hubris, it’s fear of what the FBI might be about to reveal about her. \n",
      "During the original FBI investigation, Hillary Clinton was confident that she could ride it out. And she had good reason for believing that. But that Hillary Clinton is gone. In her place is a paranoid wreck. Within a short space of time the “positive” Clinton campaign promising to unite the country has been replaced by a desperate and flailing operation that has focused all its energy on fighting the FBI. \n",
      "There’s only one reason for such bizarre behavior. \n",
      "The Clinton campaign has decided that an FBI investigation of the latest batch of emails poses a threat to its survival. And so it’s gone all in on fighting the FBI. It’s an unprecedented step born of fear. It’s hard to know whether that fear is justified. But the existence of that fear already tells us a whole lot. \n",
      "Clinton loyalists rigged the old investigation. They knew the outcome ahead of time as well as they knew the debate questions. Now suddenly they are no longer in control. And they are afraid. \n",
      "You can smell the fear. \n",
      "The FBI has wiretaps from the investigation of the Clinton Foundation. It’s finding new emails all the time. And Clintonworld panicked. The spinmeisters of Clintonworld have claimed that the email scandal is just so much smoke without fire. All that’s here is the appearance of impropriety without any of the substance. But this isn’t how you react to smoke. It’s how you respond to a fire. \n",
      "The misguided assault on the FBI tells us that Hillary Clinton and her allies are afraid of a revelation bigger than the fundamental illegality of her email setup. The email setup was a preemptive cover up. The Clinton campaign has panicked badly out of the belief, right or wrong, that whatever crime the illegal setup was meant to cover up is at risk of being exposed. \n",
      "The Clintons have weathered countless scandals over the years. Whatever they are protecting this time around is bigger than the usual corruption, bribery, sexual assaults and abuses of power that have followed them around throughout the years. This is bigger and more damaging than any of the allegations that have already come out. And they don’t want FBI investigators anywhere near it. \n",
      "The campaign against Comey is pure intimidation. It’s also a warning. Any senior FBI people who value their careers are being warned to stay away. The Democrats are closing ranks around their nominee against the FBI. It’s an ugly and unprecedented scene. It may also be their last stand. \n",
      "Hillary Clinton has awkwardly wound her way through numerous scandals in just this election cycle. But she’s never shown fear or desperation before. Now that has changed. Whatever she is afraid of, it lies buried in her emails with Huma Abedin. And it can bring her down like nothing else has.  \n"
     ]
    }
   ],
   "source": [
    "print(raw_table[\"text\"][0])"
   ]
  },
  {
   "cell_type": "code",
   "execution_count": 19,
   "metadata": {},
   "outputs": [
    {
     "data": {
      "text/html": [
       "<table border=\"1\" class=\"dataframe\">\n",
       "    <thead>\n",
       "        <tr>\n",
       "            <th>label</th> <th>text_length</th> <th>title_length</th>\n",
       "        </tr>\n",
       "    </thead>\n",
       "    <tbody>\n",
       "        <tr>\n",
       "            <td>FAKE </td> <td>7518       </td> <td>28          </td>\n",
       "        </tr>\n",
       "        <tr>\n",
       "            <td>FAKE </td> <td>2646       </td> <td>85          </td>\n",
       "        </tr>\n",
       "        <tr>\n",
       "            <td>REAL </td> <td>2543       </td> <td>43          </td>\n",
       "        </tr>\n",
       "        <tr>\n",
       "            <td>FAKE </td> <td>2660       </td> <td>84          </td>\n",
       "        </tr>\n",
       "        <tr>\n",
       "            <td>REAL </td> <td>1840       </td> <td>48          </td>\n",
       "        </tr>\n",
       "        <tr>\n",
       "            <td>FAKE </td> <td>13333      </td> <td>11          </td>\n",
       "        </tr>\n",
       "        <tr>\n",
       "            <td>FAKE </td> <td>3171       </td> <td>73          </td>\n",
       "        </tr>\n",
       "        <tr>\n",
       "            <td>REAL </td> <td>783        </td> <td>33          </td>\n",
       "        </tr>\n",
       "        <tr>\n",
       "            <td>REAL </td> <td>13863      </td> <td>63          </td>\n",
       "        </tr>\n",
       "        <tr>\n",
       "            <td>REAL </td> <td>4296       </td> <td>71          </td>\n",
       "        </tr>\n",
       "    </tbody>\n",
       "</table>\n",
       "<p>... (6325 rows omitted)</p>"
      ],
      "text/plain": [
       "label | text_length | title_length\n",
       "FAKE  | 7518        | 28\n",
       "FAKE  | 2646        | 85\n",
       "REAL  | 2543        | 43\n",
       "FAKE  | 2660        | 84\n",
       "REAL  | 1840        | 48\n",
       "FAKE  | 13333       | 11\n",
       "FAKE  | 3171        | 73\n",
       "REAL  | 783         | 33\n",
       "REAL  | 13863       | 63\n",
       "REAL  | 4296        | 71\n",
       "... (6325 rows omitted)"
      ]
     },
     "metadata": {},
     "output_type": "display_data"
    }
   ],
   "source": [
    "table=Table().with_column(\"label\",raw_table[\"label\"],\n",
    "                          \"text_length\",[len(x) for x in raw_table[\"text\"]],\n",
    "                          \"title_length\",[len(x) for x in raw_table[\"title\"]])\n",
    "display(table)"
   ]
  },
  {
   "cell_type": "code",
   "execution_count": 20,
   "metadata": {},
   "outputs": [
    {
     "data": {
      "image/png": "[encoded data removed]",
      "text/plain": [
       "<Figure size 864x288 with 2 Axes>"
      ]
     },
     "metadata": {},
     "output_type": "display_data"
    }
   ],
   "source": [
    "labels = [\"REAL\",\"FAKE\"]\n",
    "styles = [\"bo\",\"ro\"]\n",
    "terms  = [\"text_length\",\"title_length\"]\n",
    "plt.figure(figsize=[12,4])\n",
    "for i,l in enumerate(labels):\n",
    "    sub_table = table.where(\"label\",l).sample(500)\n",
    "    plt.subplot(1,2,i+1)\n",
    "    plt.plot(sub_table[terms[0]],sub_table[terms[1]],styles[i],alpha=0.1);\n",
    "    plt.xlim(0,40000)\n",
    "    plt.ylim(0,200)\n",
    "    plt.xlabel(terms[0])\n",
    "    plt.ylabel(terms[1])\n",
    "    plt.grid(True)\n",
    "    plt.title(l+\" News\")"
   ]
  },
  {
   "cell_type": "code",
   "execution_count": 21,
   "metadata": {},
   "outputs": [
    {
     "data": {
      "text/html": [
       "<table border=\"1\" class=\"dataframe\">\n",
       "    <thead>\n",
       "        <tr>\n",
       "            <th>label</th> <th>text_length mean</th> <th>title_length mean</th>\n",
       "        </tr>\n",
       "    </thead>\n",
       "    <tbody>\n",
       "        <tr>\n",
       "            <td>FAKE </td> <td>4121.05         </td> <td>69.1808          </td>\n",
       "        </tr>\n",
       "        <tr>\n",
       "            <td>REAL </td> <td>5292.16         </td> <td>61.3832          </td>\n",
       "        </tr>\n",
       "    </tbody>\n",
       "</table>"
      ],
      "text/plain": [
       "label | text_length mean | title_length mean\n",
       "FAKE  | 4121.05          | 69.1808\n",
       "REAL  | 5292.16          | 61.3832"
      ]
     },
     "metadata": {},
     "output_type": "display_data"
    }
   ],
   "source": [
    "display(table.group(\"label\",np.mean))"
   ]
  },
  {
   "cell_type": "code",
   "execution_count": null,
   "metadata": {},
   "outputs": [],
   "source": [
    "terms=[\"Hillary\",\"Trump\"]\n",
    "table=Table().with_column(\"label\",raw_table[\"label\"])\n",
    "table=table.with_columns({term: np.char.count(raw_table[\"text\"],term) for term in terms})"
   ]
  },
  {
   "cell_type": "code",
   "execution_count": null,
   "metadata": {
    "code_folding": []
   },
   "outputs": [],
   "source": [
    "labels = [\"REAL\",\"FAKE\"]\n",
    "styles = [\"bo\",\"ro\"]\n",
    "plt.figure(figsize=[12,4])\n",
    "for i,l in enumerate(labels):\n",
    "    sub_table = table.where(\"label\",l).sample(500)\n",
    "    plt.subplot(1,2,i+1)\n",
    "    plt.plot(sub_table[terms[0]],sub_table[terms[1]],styles[i],alpha=0.1);\n",
    "    plt.xlim(-0.5,50)\n",
    "    plt.ylim(-0.5,50)\n",
    "    plt.xlabel(terms[0])\n",
    "    plt.ylabel(terms[1])\n",
    "    plt.grid(True)\n",
    "    plt.title(l+\" News\")\n"
   ]
  },
  {
   "cell_type": "code",
   "execution_count": null,
   "metadata": {},
   "outputs": [],
   "source": [
    "display(table.group(\"label\",np.mean))"
   ]
  },
  {
   "cell_type": "code",
   "execution_count": null,
   "metadata": {},
   "outputs": [],
   "source": []
  }
 ],
 "metadata": {
  "kernelspec": {
   "display_name": "Python 3",
   "language": "python",
   "name": "python3"
  },
  "language_info": {
   "codemirror_mode": {
    "name": "ipython",
    "version": 3
   },
   "file_extension": ".py",
   "mimetype": "text/x-python",
   "name": "python",
   "nbconvert_exporter": "python",
   "pygments_lexer": "ipython3",
   "version": "3.8.3"
  }
 },
 "nbformat": 4,
 "nbformat_minor": 2
}
