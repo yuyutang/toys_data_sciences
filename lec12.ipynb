{
 "cells": [
  {
   "cell_type": "code",
   "execution_count": null,
   "metadata": {},
   "outputs": [],
   "source": [
    "from datascience import *\n",
    "import numpy as np\n",
    "\n",
    "%matplotlib inline\n",
    "import matplotlib.pyplot as plots\n",
    "plots.style.use('fivethirtyeight')"
   ]
  },
  {
   "cell_type": "markdown",
   "metadata": {},
   "source": [
    "# Lecture 12: Chance"
   ]
  },
  {
   "cell_type": "markdown",
   "metadata": {},
   "source": [
    "### Probability of at least one head in a given number of flips"
   ]
  },
  {
   "cell_type": "code",
   "execution_count": 33,
   "metadata": {},
   "outputs": [
    {
     "data": {
      "text/plain": [
       "0.8741"
      ]
     },
     "execution_count": 33,
     "metadata": {},
     "output_type": "execute_result"
    }
   ],
   "source": [
    "coin = make_array(\"heads\", \"tails\")\n",
    "flips=3\n",
    "S=10000\n",
    "num=0\n",
    "for i in np.arange(S):\n",
    "    num = num + int(sum(np.random.choice(coin, flips) == 'heads')>0)\n",
    "num / S"
   ]
  },
  {
   "cell_type": "code",
   "execution_count": 31,
   "metadata": {},
   "outputs": [
    {
     "data": {
      "text/plain": [
       "array([0.        , 0.5       , 0.75      , 0.875     , 0.9375    ,\n",
       "       0.96875   , 0.984375  , 0.9921875 , 0.99609375, 0.99804688,\n",
       "       0.99902344, 0.99951172, 0.99975586, 0.99987793, 0.99993896,\n",
       "       0.99996948, 0.99998474, 0.99999237, 0.99999619, 0.99999809])"
      ]
     },
     "execution_count": 31,
     "metadata": {},
     "output_type": "execute_result"
    }
   ],
   "source": [
    "flips=np.arange(20)\n",
    "Pnotails = 1-(0.5)**flips\n",
    "Pnotails"
   ]
  }
 ],
 "metadata": {
  "anaconda-cloud": {},
  "kernelspec": {
   "display_name": "Python 3",
   "language": "python",
   "name": "python3"
  },
  "language_info": {
   "codemirror_mode": {
    "name": "ipython",
    "version": 3
   },
   "file_extension": ".py",
   "mimetype": "text/x-python",
   "name": "python",
   "nbconvert_exporter": "python",
   "pygments_lexer": "ipython3",
   "version": "3.8.3"
  }
 },
 "nbformat": 4,
 "nbformat_minor": 1
}
