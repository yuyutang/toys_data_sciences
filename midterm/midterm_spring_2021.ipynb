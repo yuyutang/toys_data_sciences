{
  "nbformat": 4,
  "nbformat_minor": 0,
  "metadata": {
    "colab": {
      "name": "Copy_of_midterm_spring_2021 (1).ipynb",
      "provenance": [],
      "collapsed_sections": []
    },
    "kernelspec": {
      "display_name": "Python 3",
      "language": "python",
      "name": "python3"
    },
    "language_info": {
      "codemirror_mode": {
        "name": "ipython",
        "version": 3
      },
      "file_extension": ".py",
      "mimetype": "text/x-python",
      "name": "python",
      "nbconvert_exporter": "python",
      "pygments_lexer": "ipython3",
      "version": "3.7.6"
    }
  },
  "cells": [
    {
      "cell_type": "markdown",
      "metadata": {
        "id": "DB5OZKVPRny-"
      },
      "source": [
        "# Midterm Spring 2021\n",
        "\n",
        "**Instructions**\n",
        "\n",
        "The exam should be opened on Moodle at **9 am ET on Monday March 15 and closed at 9am ET on Tuesday March 16. The time limit is 2 hours for the exam.** Your solution must be turned in as an **.ipynb file** on Moodle before it is closed. Late exams will only be accepted at the instructors discretion. If you miss the submission window you will need to email me the exam and explain what is the reason right after the exam.\n",
        "Answer each question using only one cell. You may create a copy of this notebook and open additional cells for testing, but when you turn in the exam, please only have one cell per question. Partial credit will be given. It is easier to give partial credit if you comment your code to say what each line is doing, or trying to do. If you can't solve a problem fully, try solving part of it for partial credit.\n",
        "\n",
        "Do not import additional libraries. Use only the libraries already included below.\n",
        "\n",
        "The solutions should be displayed in the notebook. Each question requires only one thing to be displayed. You don't need to display any intermediate steps you may have taken.\n",
        "\n",
        "Each question is worth the same number of points.\n",
        "\n",
        "***It is an open book/notes/internet exam, but  you have to do it by yourself, no cooperation is allowed.  Don't post or talk about the questions or your solution of the exam during the exam open window. Please DO NOT post questions of clarification to Piazza. Since not all students are taking the exam at the same time, this might create an unfair advantage.***"
      ]
    },
    {
      "cell_type": "markdown",
      "metadata": {
        "id": "hBQCiBCSRnzK"
      },
      "source": [
        "## 1. Setup\n",
        "Run the two cells below to load the packages and data necessary for this exam.\n",
        "\n",
        "The dataset CPS85 contains data on 534 individuals surveyed in the year 1985.\n",
        "\n",
        "    wage = The hourly wage\n",
        "    educ = years of education\n",
        "    white/hispanic = white or not/hispanic or not\n",
        "    sex = sex (male or female)\n",
        "    sout = whether or not the person was from the south\n",
        "    exper = years of experience\n",
        "    union = whehter or not the person was in a union\n",
        "    age = age in years\n",
        "    sector = what sector the person works in"
      ]
    },
    {
      "cell_type": "code",
      "metadata": {
        "id": "hAwjmvPtRnzM"
      },
      "source": [
        "from datascience import *\n",
        "import numpy as np\n",
        "import matplotlib\n",
        "%matplotlib inline"
      ],
      "execution_count": null,
      "outputs": []
    },
    {
      "cell_type": "code",
      "metadata": {
        "id": "jN5tue0tRnzP"
      },
      "source": [
        "CPS85 = Table.read_table(\"CPS85.csv\")\n",
        "CPS85"
      ],
      "execution_count": null,
      "outputs": []
    },
    {
      "cell_type": "markdown",
      "metadata": {
        "id": "WxbTmSzBUxMC"
      },
      "source": [
        "**Question 1:**\n",
        "\n",
        "Compute the absolute difference of average years of education between men and women, round the result to 2 decimal places. Assign this value to ```q1```.\n",
        "\n",
        "\n"
      ]
    },
    {
      "cell_type": "code",
      "metadata": {
        "id": "8besQQ0H9Se9"
      },
      "source": [
        "q1 = ...\n",
        "q1"
      ],
      "execution_count": null,
      "outputs": []
    },
    {
      "cell_type": "markdown",
      "metadata": {
        "id": "lyIIKbWjXWfB"
      },
      "source": [
        "**Question 2:**\n",
        "\n",
        "Create a table with the 6 youngest workers who have more that 5 years of experience. Assign this table to ```q2```."
      ]
    },
    {
      "cell_type": "code",
      "metadata": {
        "id": "Ac-MEL5j9RZ7"
      },
      "source": [
        "q2 = ...\n",
        "q2"
      ],
      "execution_count": null,
      "outputs": []
    },
    {
      "cell_type": "markdown",
      "metadata": {
        "id": "J1Aal7vfRnzY"
      },
      "source": [
        "**Question 3:** \n",
        "\n",
        "Create a table that contains the average age of workers in each 'sector'. Column names for this table should be sector and \"average_age\". Assign this table to ```q3```.\n"
      ]
    },
    {
      "cell_type": "code",
      "metadata": {
        "id": "9cR2ieGZ9QbP"
      },
      "source": [
        "q3 = ...\n",
        "q3"
      ],
      "execution_count": null,
      "outputs": []
    },
    {
      "cell_type": "markdown",
      "metadata": {
        "id": "ZglohKci7EUN"
      },
      "source": [
        "**Question 4:**\n",
        "\n",
        "Create a table that contains the average age of workers broken down by union and sector. A row of the table should be the average age for each sector of a particular union status. So, different union statuses should be rows, and different sectors should be columns. Assign this table to ```q4```."
      ]
    },
    {
      "cell_type": "code",
      "metadata": {
        "id": "lc5rD6Bg9Oav"
      },
      "source": [
        "q4 = ...\n",
        "q4"
      ],
      "execution_count": null,
      "outputs": []
    },
    {
      "cell_type": "markdown",
      "metadata": {
        "id": "X600faPKRnzv"
      },
      "source": [
        "**Question 5:** \n",
        "Create a new table called ```CPS85_new```, similar to the original CPS85, except where the the values for the ```union``` variable are ```not_in_union```, and ```in_union```."
      ]
    },
    {
      "cell_type": "code",
      "metadata": {
        "id": "-geUI2Jp9NR_"
      },
      "source": [
        "CPS85_new = ...\n",
        "CPS85_new"
      ],
      "execution_count": null,
      "outputs": []
    },
    {
      "cell_type": "markdown",
      "metadata": {
        "id": "hbGVONaeRnzx"
      },
      "source": [
        "**Question 6:** \n",
        "\n",
        "Write a function that will create a bar plot of the mean of a numerical variable for each sector arranged in order of sectors with the highest to lowest mean.  Use the function to create a bar plot of the average years of education for each sector."
      ]
    },
    {
      "cell_type": "code",
      "metadata": {
        "id": "6b3KCAVe9Le8"
      },
      "source": [
        ""
      ],
      "execution_count": null,
      "outputs": []
    },
    {
      "cell_type": "markdown",
      "metadata": {
        "id": "ijRPss4KOECZ"
      },
      "source": [
        "**Question 7:**\n",
        "\n",
        " Create a histogram of experiences by 5 year increments from 0 to the maximum years of experiences(include the maximum years of experience)."
      ]
    },
    {
      "cell_type": "code",
      "metadata": {
        "id": "E-fQCjr_9JeF"
      },
      "source": [
        ""
      ],
      "execution_count": null,
      "outputs": []
    },
    {
      "cell_type": "markdown",
      "metadata": {
        "id": "U5XP2RM5jbQR"
      },
      "source": [
        "**Question 8:** Define a function call ```remove_dollar_sign(str)``` to remove a dollar sign in a string.\n",
        "Calculate the average wage of all observations in the data by applying your defined function to wage. Round the result to 2 decimal places. Assign this value to ```q8```. Note: the type of values of wage is string. You need to type casting the values of wage to float before you can compute them."
      ]
    },
    {
      "cell_type": "code",
      "metadata": {
        "id": "YAw-kbrf9Ik8"
      },
      "source": [
        "def remove_dollar_sign(str):\n",
        "    ...\n",
        "q8 = ...\n",
        "q8"
      ],
      "execution_count": null,
      "outputs": []
    },
    {
      "cell_type": "code",
      "metadata": {
        "id": "aS0gXzhrU2l_"
      },
      "source": [
        ""
      ],
      "execution_count": null,
      "outputs": []
    }
  ]
}